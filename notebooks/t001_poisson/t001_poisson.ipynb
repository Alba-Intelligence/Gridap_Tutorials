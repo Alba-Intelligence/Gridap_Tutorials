{
 "cells": [
  {
   "cell_type": "markdown",
   "metadata": {},
   "source": [
    "# Tutorial 1: Poisson equation"
   ]
  },
  {
   "cell_type": "markdown",
   "metadata": {},
   "source": [
    "## Problem statement\n",
    "\n",
    "We want to solve the Possion equation on the 3D domain depicted in the figure below with Dirichlet and Neumann boundary conditions. Dirichlet boundary conditions are applyed on $\\Gamma_{\\rm D}$, being the outer sides of the prism (marked in red). Non-homogeneous Neumann conditions are applyed to the internal boundaries $\\Gamma_{\\rm G}$, $\\Gamma_{\\rm Y}$, and $\\Gamma_{\\rm B}$ (marked in green, yelow and blue respectively). And homogeneous Neumann boundary conditions are applyed in $\\Gamma_{\\rm W}$, the remaining portion of the boundary (marked in white).\n",
    "\n"
   ]
  },
  {
   "cell_type": "markdown",
   "metadata": {},
   "source": [
    "\n",
    "![model](../../models/model-r1.png)"
   ]
  },
  {
   "cell_type": "markdown",
   "metadata": {},
   "source": [
    "Formally, the problem to solve is: find $u$ such that\n",
    "\n",
    "\\begin{equation}\n",
    "\\left\\lbrace\n",
    "\\begin{aligned}\n",
    "-\\Delta u = f \\text{  in } \\Omega\\\\\n",
    "u = g \\text{ on } \\Gamma_{\\rm D}\\\\\n",
    "\\nabla u\\cdot n = h \\text{ on } \\Gamma_{\\rm N}\\\\\n",
    "\\end{aligned}\n",
    "\\right.\n",
    "\\end{equation}\n",
    "\n",
    "being $n$ the outwards unit normal vector to the Neumann boundary $\\Gamma_{\\rm N} \\doteq \\Gamma_{\\rm G}\\cup\\Gamma_{\\rm Y}\\cup\\Gamma_{\\rm B}\\cup\\Gamma_{\\rm W}$. For simplicity, we chose $f(x) = 1$, $g(x) = 2$, and $h(x)=3$ on $\\Gamma_{\\rm G}\\cup\\Gamma_{\\rm Y}\\cup\\Gamma_{\\rm B}$ and $h(x)=0$ on $\\Gamma_{\\rm W}$. The variable $x$ is the position vector $x=(x_1,x_2,x_3)$. \n"
   ]
  },
  {
   "cell_type": "markdown",
   "metadata": {},
   "source": [
    "## Numerical scheme\n",
    "\n",
    "In this first tutorial, we use a conventional Galerkin finite element (FE) method with conforming Lagrangian finite element spaces. In that case, the model problem reduces to the weak equation: find $u\\in U_g$ such that $ a(v,u) = b(v) $ for all $v\\in V_0$, where $U_g$ and $V_0$ are the subset of functions in $H^1(\\Omega)$ that fulfill the Dirichlet boundary condition $g$ and $0$ respectively. The bilinear and linear forms for this problems are\n",
    "$$\n",
    "a(v,u) \\doteq \\int_{\\Omega} \\nabla v \\cdot \\nabla u {\\rm \\ d}\\Omega, \\quad b(v) \\doteq \\int_{\\Omega} v\\ f  {\\rm \\ d}\\Omega + \\int_{\\Gamma_{\\rm N}} v\\ g {\\rm \\ d}\\Gamma_{\\rm N}\n",
    "$$\n",
    "\n",
    "While solving this problem in Gridap, we are going to build the main objects that are involved in this equation in a very inuitive way. \n"
   ]
  },
  {
   "cell_type": "markdown",
   "metadata": {},
   "source": [
    "## Implementation\n",
    "\n",
    "The step number 0, is to load the Gridap project. If you have followed the steps of the `README.md` file, it is simply done like this:"
   ]
  },
  {
   "cell_type": "code",
   "execution_count": 1,
   "metadata": {},
   "outputs": [],
   "source": [
    "using Gridap"
   ]
  },
  {
   "cell_type": "markdown",
   "metadata": {},
   "source": [
    "As in any FE simulation, we need a discretization of the computational domain, which, in addition, is aware of the different boundaries to impose boundary conditions. This information is provided in Gridap by objects inheriting from the abstract type `DiscreteModel`. In the following line, we build an instance of `DiscreteModel` by loading a model from a `json` file."
   ]
  },
  {
   "cell_type": "code",
   "execution_count": 3,
   "metadata": {},
   "outputs": [],
   "source": [
    "model = DiscreteModelFromFile(\"../../models/model.json\");"
   ]
  },
  {
   "cell_type": "markdown",
   "metadata": {},
   "source": [
    "You can easily inspect the generated model in Paraview by writting it to `vtk` format. "
   ]
  },
  {
   "cell_type": "code",
   "execution_count": 4,
   "metadata": {},
   "outputs": [],
   "source": [
    "writevtk(model,\"model\")"
   ]
  },
  {
   "cell_type": "markdown",
   "metadata": {},
   "source": [
    "Previous line generates four different files `model_0.vtu`, `model_1.vtu`, `model_2.vtu`, and `model_3.vtu` containing the vertices, edges, faces, and cells present in the discrete model. Moreover, you can easily inspect, which boundaries are defined within the model. \n",
    "\n",
    "For instance, if we want to see which faces of the model are on the boundary $\\Gamma_{\\rm B}$ (i.e., the walls of the circular hole), open the file `model_2.vtu` and chose coloring by the element field \"circle\". You should see that only the faces on the circular hole hava a value different from 0."
   ]
  },
  {
   "cell_type": "markdown",
   "metadata": {},
   "source": [
    "![](assets/fig_faces_on_circle.png)"
   ]
  },
  {
   "cell_type": "markdown",
   "metadata": {},
   "source": [
    "On the other hand, to see which vertices are on the Dirichlet boundary $\\Gamma_{\\rm D}$, open the file `model_0.vtu` and chose coloring by the field \"sides\"."
   ]
  },
  {
   "cell_type": "markdown",
   "metadata": {},
   "source": [
    "![](assets/fig_vertices_on_sides.png)"
   ]
  },
  {
   "cell_type": "markdown",
   "metadata": {},
   "source": [
    "You can easily see, by inspecting the files in paraview, that the walls of the triangular hole $\\Gamma_{\\rm G}$ and the walls of the square hole $\\Gamma_{\\rm Y}$ are identified in the model with the names \"triangle\" and \"square\" respectively."
   ]
  },
  {
   "cell_type": "code",
   "execution_count": 7,
   "metadata": {},
   "outputs": [],
   "source": [
    "order = 1\n",
    "diritag = \"sides\"\n",
    "fespace = ConformingFESpace(Float64,model,order,diritag);"
   ]
  },
  {
   "cell_type": "code",
   "execution_count": 14,
   "metadata": {},
   "outputs": [],
   "source": [
    "g(x) = 2.0\n",
    "V = TestFESpace(fespace)\n",
    "U = TrialFESpace(fespace,g);"
   ]
  },
  {
   "cell_type": "code",
   "execution_count": 15,
   "metadata": {},
   "outputs": [],
   "source": [
    "trian = Triangulation(model)\n",
    "quad = CellQuadrature(trian,order=2);"
   ]
  },
  {
   "cell_type": "code",
   "execution_count": 18,
   "metadata": {},
   "outputs": [],
   "source": [
    "# TODO neumanntags = [\"circle\", \"triangle\", \"square\"]\n",
    "neumanntags = [5,6,7]\n",
    "btrian = BoundaryTriangulation(model,neumanntags)\n",
    "bquad = CellQuadrature(btrian,order=2);"
   ]
  },
  {
   "cell_type": "code",
   "execution_count": 22,
   "metadata": {},
   "outputs": [],
   "source": [
    "a(v,u) = inner( ∇(v), ∇(u) )\n",
    "# TODO b(v) = inner( v, f )\n",
    "f(x) = 1.0\n",
    "ffield = CellField(trian,f)\n",
    "b_Ω(v) = inner(v, ffield)\n",
    "t_Ω = AffineFETerm(a,b_Ω,trian,quad);"
   ]
  },
  {
   "cell_type": "code",
   "execution_count": 25,
   "metadata": {},
   "outputs": [],
   "source": [
    "h(x) = 3.0\n",
    "hfield = CellField(btrian,h)\n",
    "# TODO b_Γ(v) = inner(v, h )\n",
    "b_Γ(v) = inner(v, hfield)\n",
    "t_Γ = FESource(b_Γ,btrian,bquad);"
   ]
  },
  {
   "cell_type": "code",
   "execution_count": 26,
   "metadata": {},
   "outputs": [],
   "source": [
    "assem = SparseMatrixAssembler(V,U);"
   ]
  },
  {
   "cell_type": "code",
   "execution_count": 29,
   "metadata": {},
   "outputs": [],
   "source": [
    "op = LinearFEOperator(V,U,assem,t_Ω,t_Γ);"
   ]
  },
  {
   "cell_type": "code",
   "execution_count": 31,
   "metadata": {},
   "outputs": [],
   "source": [
    "ls = LUSolver()\n",
    "solver = LinearFESolver(ls);"
   ]
  },
  {
   "cell_type": "code",
   "execution_count": 32,
   "metadata": {},
   "outputs": [],
   "source": [
    "uh = solve(solver,op);"
   ]
  },
  {
   "cell_type": "code",
   "execution_count": 35,
   "metadata": {},
   "outputs": [],
   "source": [
    "writevtk(trian,\"results\",cellfields=[\"uh\"=>uh]);"
   ]
  },
  {
   "cell_type": "markdown",
   "metadata": {},
   "source": [
    "![](assets/fig_uh.png)"
   ]
  },
  {
   "cell_type": "code",
   "execution_count": null,
   "metadata": {},
   "outputs": [],
   "source": []
  }
 ],
 "metadata": {
  "@webio": {
   "lastCommId": null,
   "lastKernelId": null
  },
  "kernelspec": {
   "display_name": "Julia 1.1.0",
   "language": "julia",
   "name": "julia-1.1"
  },
  "language_info": {
   "file_extension": ".jl",
   "mimetype": "application/julia",
   "name": "julia",
   "version": "1.1.0"
  }
 },
 "nbformat": 4,
 "nbformat_minor": 2
}
