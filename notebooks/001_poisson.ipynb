{
 "cells": [
  {
   "cell_type": "markdown",
   "metadata": {},
   "source": [
    "# Tutorial 1: Poisson equation"
   ]
  },
  {
   "cell_type": "markdown",
   "metadata": {},
   "source": [
    "## Problem statement\n",
    "\n",
    "We want to solve the Possion equation on the 3D domain depicted in the figure below with dirichlet and Neumann boundary conditions. Dirichlet boundary conditions are applyed on $\\Gamma_{\\rm D}$, being the outer sides of the prism (marked in red). Non-homogeneous Neumann conditions are applyed to the internal boundaries $\\Gamma_{\\rm G}$, $\\Gamma_{\\rm Y}$, and $\\Gamma_{\\rm B}$ (marked in green, yelow and blue respectively). And homogeneous Neumann boundary conditions are applyed in the remaining portion of the boundary $\\Gamma_{\\rm W}$ (marked in white).\n",
    "\n"
   ]
  },
  {
   "cell_type": "markdown",
   "metadata": {},
   "source": [
    "\n",
    "![](../models/model-r1.png)"
   ]
  },
  {
   "cell_type": "markdown",
   "metadata": {},
   "source": [
    "Formally, the problem to solve is: find $u$ such that\n",
    "\n",
    "\\begin{equation}\n",
    "\\left\\lbrace\n",
    "\\begin{aligned}\n",
    "-\\Delta u = f \\text{  in } \\Omega\\\\\n",
    "u = g \\text{ on } \\Gamma_{\\rm D}\\\\\n",
    "\\nabla u\\cdot n = h \\text{ on } \\Gamma_{\\rm N}\\\\\n",
    "\\end{aligned}\n",
    "\\right.\n",
    "\\end{equation}\n",
    "\n",
    "being $n$ the outwards unit normal vector to the Neumann boundary $\\Gamma_{\\rm N} \\doteq \\Gamma_{\\rm G}\\cup\\Gamma_{\\rm Y}\\cup\\Gamma_{\\rm B}\\cup\\Gamma_{\\rm W}$.\n",
    "\n",
    "In order to demonstrate the hability to deal with position dependent sources and boundary conditions, we choose the value of $f$, $g$, and $h$ as follows \n",
    "\n",
    "\\begin{equation}\n",
    "\\begin{aligned}\n",
    "f(x,y,z) = x-y+z\\\\\n",
    "g(x,y,z)=2y+z\n",
    "\\end{aligned}\n",
    "\\end{equation}\n",
    "\n",
    "\\begin{equation}\n",
    "\\left\\lbrace\n",
    "\\begin{aligned}\n",
    "h(x,y,z) &= x + 3y &\\text{ on } \\Gamma_{\\rm G}\\cup\\Gamma_{\\rm Y}\\cup\\Gamma_{\\rm B}\\\\\n",
    "h(x,y,z)&=0 &\\text{ on } \\Gamma_{\\rm W}\n",
    "\\end{aligned}\n",
    "\\right.\n",
    "\\end{equation}\n"
   ]
  },
  {
   "cell_type": "markdown",
   "metadata": {},
   "source": [
    "## Numerical scheme\n",
    "\n",
    "We use a conventional Finite element method with conforming Lagrangian finite element spaces. In that case, the model problem reduces to the weak equation: find $u\\in U_g$ such that $ a(v,u) = b(v) $ for all $v\\in V_0$\n"
   ]
  },
  {
   "cell_type": "code",
   "execution_count": 1,
   "metadata": {},
   "outputs": [],
   "source": [
    "using Gridap"
   ]
  },
  {
   "cell_type": "code",
   "execution_count": 5,
   "metadata": {},
   "outputs": [],
   "source": [
    "model = DiscreteModelFromFile(\"../models/model.json\");"
   ]
  },
  {
   "cell_type": "code",
   "execution_count": 7,
   "metadata": {},
   "outputs": [],
   "source": [
    "writevtk(model,\"model\")"
   ]
  },
  {
   "cell_type": "code",
   "execution_count": null,
   "metadata": {},
   "outputs": [],
   "source": []
  }
 ],
 "metadata": {
  "kernelspec": {
   "display_name": "Julia 1.1.0",
   "language": "julia",
   "name": "julia-1.1"
  },
  "language_info": {
   "file_extension": ".jl",
   "mimetype": "application/julia",
   "name": "julia",
   "version": "1.1.0"
  }
 },
 "nbformat": 4,
 "nbformat_minor": 2
}
