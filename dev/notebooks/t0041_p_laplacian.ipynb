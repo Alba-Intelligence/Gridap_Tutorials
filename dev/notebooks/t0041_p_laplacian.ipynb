{
 "cells": [
  {
   "outputs": [],
   "cell_type": "markdown",
   "source": [
    "# Tutorial 4: p-Laplacian\n",
    "\n",
    "\n",
    "## Problem statement"
   ],
   "metadata": {}
  },
  {
   "outputs": [],
   "cell_type": "code",
   "source": [
    "using Gridap\n",
    "using LineSearches: BackTracking\n",
    "import Random\n",
    "Random.seed!(1234)\n",
    "\n",
    "const p = 3\n",
    "\n",
    "norm(u) = sqrt(inner(u,u)) #TODO dot, norm\n",
    "\n",
    "@law j(x,∇u) = norm(∇u)^(p-2) * ∇u\n",
    "\n",
    "@law dj(x,∇du,∇u) = (p-2)*norm(∇u)^(p-4)*inner(∇u,∇du)*∇u + norm(∇u)^(p-2) * ∇du #TODO inner\n",
    "\n",
    "f(x) = 1.0\n",
    "\n",
    "res(u,v) = inner( ∇(v), j(∇(u)) ) - inner(v,f)\n",
    "\n",
    "jac(u,v,du) = inner(  ∇(v) , dj(∇(du),∇(u)) )\n",
    "\n",
    "model = DiscreteModelFromFile(\"../models/model.json\");\n",
    "\n",
    "labels = FaceLabels(model)\n",
    "\n",
    "add_tag_from_tags!(labels,\"diri0\",[\"sides\", \"sides_c\"])\n",
    "add_tag_from_tags!(labels,\"diri1\",\n",
    "  [\"circle\",\"circle_c\", \"triangle\", \"triangle_c\", \"square\", \"square_c\"])\n",
    "\n",
    "order = 1\n",
    "diritags = [\"diri0\", \"diri1\"]\n",
    "V = CLagrangianFESpace(Float64,model,labels,order,diritags);\n",
    "\n",
    "V0 = TestFESpace(V)\n",
    "U = TrialFESpace(V,[0.0,1.0]);\n",
    "\n",
    "trian = Triangulation(model)\n",
    "quad = CellQuadrature(trian,order=2)\n",
    "\n",
    "t_Ω = NonLinearFETerm(res,jac,trian,quad)\n",
    "op = NonLinearFEOperator(V,U,t_Ω)"
   ],
   "metadata": {},
   "execution_count": null
  },
  {
   "outputs": [],
   "cell_type": "markdown",
   "source": [
    "Setup linear solver"
   ],
   "metadata": {}
  },
  {
   "outputs": [],
   "cell_type": "code",
   "source": [
    "ls = BackslashSolver()"
   ],
   "metadata": {},
   "execution_count": null
  },
  {
   "outputs": [],
   "cell_type": "markdown",
   "source": [
    "Setup non-linear solver"
   ],
   "metadata": {}
  },
  {
   "outputs": [],
   "cell_type": "code",
   "source": [
    "nls = JuliaNLSolver(\n",
    "  ls;\n",
    "  show_trace=true,\n",
    "  store_trace=true,\n",
    "  method=:newton,\n",
    "  linesearch=BackTracking())\n",
    "\n",
    "solver = NonLinearFESolver(nls)\n",
    "\n",
    "x = rand(Float64,num_free_dofs(U))\n",
    "\n",
    "uh = FEFunction(U,x)\n",
    "\n",
    "cache = solve!(uh,solver,op)\n",
    "\n",
    "writevtk(trian,\"results\",cellfields=[\"uh\"=>uh])"
   ],
   "metadata": {},
   "execution_count": null
  },
  {
   "outputs": [],
   "cell_type": "markdown",
   "source": [
    "![](../assets/t0041_p_laplacian/sol-plap.png)"
   ],
   "metadata": {}
  },
  {
   "outputs": [],
   "cell_type": "markdown",
   "source": [
    "*This notebook was generated using [Literate.jl](https://github.com/fredrikekre/Literate.jl).*"
   ],
   "metadata": {}
  }
 ],
 "nbformat_minor": 3,
 "metadata": {
  "language_info": {
   "file_extension": ".jl",
   "mimetype": "application/julia",
   "name": "julia",
   "version": "1.2.0"
  },
  "kernelspec": {
   "name": "julia-1.2",
   "display_name": "Julia 1.2.0",
   "language": "julia"
  }
 },
 "nbformat": 4
}
