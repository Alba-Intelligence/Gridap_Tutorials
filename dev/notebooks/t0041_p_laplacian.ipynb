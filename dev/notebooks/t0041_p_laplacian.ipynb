{
 "cells": [
  {
   "outputs": [],
   "cell_type": "markdown",
   "source": [
    "# Tutorial 4: p-Laplacian\n",
    "\n",
    "\n",
    "## Learning outcomes\n",
    "\n",
    "- How to solve a simple non-linear PDE in Gridap\n",
    "- How to define the weak residual and its Jacobian\n",
    "- How to setup and use a non-linear solver\n",
    "- How to define new boundaries from a given discrete model\n",
    "- How to interpolate a function in a FE space\n",
    "\n",
    "## Problem statement\n",
    "\n",
    "The goal of this tutorial is to solve a non-linear PDEs in Gridap. For the sake of simplicity, we consider the [p-Laplacian](https://en.wikipedia.org/wiki/P-Laplacian) as the model problem. More complex PDEs will be considered in other tutorials. See, e.g., the tutorial on geometrically non-linear elasticity (hyper-elasticity) or the one on the incompressible Navier-Stokes equation. In this tutorial, the PDE we want to solve is\n",
    "\n",
    "$$\n",
    "\\left\\lbrace\n",
    "\\begin{aligned}\n",
    "-\\nabla \\cdot \\left( |\\nabla u|^{p-2}\\ \\nabla u \\right) = f\\ \\text{in}\\ \\Omega\\\\\n",
    "u = 0 \\ \\text{on} \\ \\Gamma_0\\\\\n",
    "u = g \\ \\text{on} \\ \\Gamma_g\\\\\n",
    "\\left( |\\nabla u|^{p-2}\\ \\nabla u \\right)\\cdot n = 0 \\ \\text{on} \\ \\Gamma_{\\rm N}\n",
    "\\end{aligned}\n",
    "\\right.\n",
    "$$\n",
    "This PDE is the p-Laplacian equation of degree $p>2$, equipped with homogeneous Dirichlet and Neumann boundary conditions on $\\Gamma_0$ and $\\Gamma_{\\rm N}$  respectively, and in-homogeneous Dirichlet conditions on $\\Gamma_g$.  The domain $\\Omega$ is the one depicted in the figure below. The Dirichlet boundaries $\\Gamma_0$ and $\\Gamma_g$ are defined as the closure of the green and blue surfaces respectively, whereas the Neumann boundary is the remaining portion of the boundary $\\Gamma_{\\rm N}\\doteq\\partial\\Omega \\setminus (\\Gamma_0\\cup\\Gamma_g)$. In this example, we consider the values $p=3$, $f=1$, and $g=2$.\n",
    "\n",
    "![](../assets/t0041_p_laplacian/model.png)\n",
    "\n",
    "\n",
    "## Numerical scheme\n",
    "\n",
    "As in previous tutorials, we discretize the problem with conforming Lagrangian FE spaces. For this formulation, the weak form reads: find $u\\in U_g$ such that $[r(u)](v) = 0$ for all $v\\in V_0$, where the weak residual $r: U_g \\rightarrow (V_0)^\\prime$ is defined as\n",
    "$$\n",
    "[r(u)](v) \\doteq \\int_\\Omega \\nabla v \\cdot \\left( |\\nabla u|^{p-2}\\ \\nabla u \\right) \\ {\\rm d}\\Omega - \\int_\\Omega v\\ f \\ {\\rm d}\\Omega.\n",
    "$$\n",
    "The spaces $U_g$ is the set of functions in $H^1(\\Omega)$ that fulfill the Dirichlet boundary conditions, whereas $V_0$ is composed by functions in $H^1(\\Omega)$ that vanish at the Dirichlet boundary.\n",
    "\n",
    "In order to solve this non-linear weak equation, we consider a Newton-Raphson method, which is associated with the following linearization of the problem:  $[r(u+\\delta u)](v)\\approx [r(u)](v) + [j(u)](v,\\delta u)$. The Jacobian evaluated at $u\\in U_g$ is the bilinear form defined as\n",
    "$$\n",
    "[j(u)](v,\\delta u) \\doteq \\left.\\dfrac{\\rm d}{{\\rm d} \\varepsilon}\\right|_{\\varepsilon = 0} [r(u+\\varepsilon \\ \\delta u)](v).\n",
    "$$\n",
    "\n",
    "For the current example, we have\n",
    "\n",
    "$$\n",
    "[j(u)](v,\\delta u) = \\int_\\Omega \\nabla v \\cdot \\left( |\\nabla u|^{p-2}\\ \\nabla \\delta u \\right) \\ {\\rm d}\\Omega + (p-2) \\int_\\Omega \\nabla v \\cdot \\left(  |\\nabla u|^{p-4} (\\nabla u \\cdot \\nabla \\delta u) \\nabla u  \\right) \\ {\\rm d}\\Omega.\n",
    "$$\n",
    "\n",
    "Note that the solution of this non-linear PDE with the Newton-Raphson method, will require to discretize both the residual $r$ and the Jacobian $j$. In Gridap, this is done by following an approach similar to the one already shown in previous tutorials for discretizing the bilinear and linear forms associated with linear FE problems. The specific details are discussed in next section.\n",
    "\n",
    "## Implementation\n",
    "\n",
    "### Defining new boundary identifiers\n",
    "\n",
    "The first step to solve this PDE in Gridap is to load the discretization of the computational domain. It that case we load the model from a file"
   ],
   "metadata": {}
  },
  {
   "outputs": [],
   "cell_type": "code",
   "source": [
    "using Gridap\n",
    "\n",
    "model = DiscreteModelFromFile(\"../models/model.json\");"
   ],
   "metadata": {},
   "execution_count": null
  },
  {
   "outputs": [],
   "cell_type": "markdown",
   "source": [
    "Once we have build the discrete model, we have to inspect it in order to see which boundaries are defined in it. To this end, write the model to vtk format and open the resulting file in paraview."
   ],
   "metadata": {}
  },
  {
   "outputs": [],
   "cell_type": "code",
   "source": [
    "writevtk(model,\"model\");"
   ],
   "metadata": {},
   "execution_count": null
  },
  {
   "outputs": [],
   "cell_type": "markdown",
   "source": [
    "We need to impose Dirichlet boundary conditions on $\\Gamma_0$ and $\\Gamma_g$ as we have stated above, but non of these boundaries is identified in the model. E.g., you can easily see in paraview that the boundary identified as \"sides\" in the model only includes the vertices in the interior of $\\Gamma_0$, but, in this example, we want to impose Dirichlet boundary conditions also on the vertices on the contour of $\\Gamma_0$ for demonstration purposes. Fortunately, the objects on the contour of $\\Gamma_0$ are identified in the model with the tag `\"sides_c\"` (see figure below). Thus, the Dirichlet boundary $\\Gamma_0$ is build as the union of the objects identified as `\"sides\"` and `\"sides_c\"`.\n",
    "\n",
    "![](../assets/t0041_p_laplacian/sides_c.png)\n",
    "\n",
    "Gridap provides a convenient way to create new object identifiers (referred as \"tags\") from existing ones. It is done as follows. First, we need to extract from the model, the object that holds the information about the boundary identifiers, which in Gridap is represented with the `FaceLabels` type:"
   ],
   "metadata": {}
  },
  {
   "outputs": [],
   "cell_type": "code",
   "source": [
    "labels = FaceLabels(model);"
   ],
   "metadata": {},
   "execution_count": null
  },
  {
   "outputs": [],
   "cell_type": "markdown",
   "source": [
    "Once we have the `FaceLabels` object (in this case stored in the variable `labels`), we can add new identifiers (aka \"tags\") to it. In the next line we create a new tag called `\"diri0\"` as the union of the objects identified as `\"sides\"` and `\"sides_c\"`, which is precisely what we need to represent the Dirichlet boundary $\\Gamma_0$."
   ],
   "metadata": {}
  },
  {
   "outputs": [],
   "cell_type": "code",
   "source": [
    "add_tag_from_tags!(labels,\"diri0\",[\"sides\", \"sides_c\"]);"
   ],
   "metadata": {},
   "execution_count": null
  },
  {
   "outputs": [],
   "cell_type": "markdown",
   "source": [
    "We follow the same approach to build a new identifier for the Dirichlet boundary $\\Gamma_g$. In this case, objects in $\\Gamma_g$ can be expressed as the union of the objects identified with the tags `\"circle\"`, `\"circle_c\"`, `\"triangle\"`, `\"triangle_c\"`, `\"square\"`, `\"square_c\"`. Thus, we create a new tag for  $\\Gamma_g$, called `\"dirig\"` simply as follows:"
   ],
   "metadata": {}
  },
  {
   "outputs": [],
   "cell_type": "code",
   "source": [
    "add_tag_from_tags!(labels,\"dirig\",\n",
    "  [\"circle\",\"circle_c\", \"triangle\", \"triangle_c\", \"square\", \"square_c\"])"
   ],
   "metadata": {},
   "execution_count": null
  },
  {
   "outputs": [],
   "cell_type": "markdown",
   "source": [
    "### FE Spaces\n",
    "\n",
    "Now, we can build the FE spaces by using the newly defined boundary tags."
   ],
   "metadata": {}
  },
  {
   "outputs": [],
   "cell_type": "code",
   "source": [
    "order = 1\n",
    "diritags = [\"diri0\", \"dirig\"]\n",
    "V = CLagrangianFESpace(Float64,model,labels,order,diritags);"
   ],
   "metadata": {},
   "execution_count": null
  },
  {
   "outputs": [],
   "cell_type": "markdown",
   "source": [
    "Note that, we pass the `labels` variable (that contains the newly created boundary tags) in the third argument of the `CLagrangianFESpace` constructor. From this FE space, we can define the test and trial FE spaces"
   ],
   "metadata": {}
  },
  {
   "outputs": [],
   "cell_type": "code",
   "source": [
    "g = 1.0\n",
    "V0 = TestFESpace(V)\n",
    "Ug = TrialFESpace(V,[0.0,g]);"
   ],
   "metadata": {},
   "execution_count": null
  },
  {
   "outputs": [],
   "cell_type": "markdown",
   "source": [
    "Note that we set a value of `0.0` on the boundary `\"diri0\"` and a value of `g=1.0` on the boundary `\"dirig\"` when constructing the trial FE space as it required by the problem statement. Note that in this tutorial we are passing values instead of functions in order describe the prescribed Dirichlet data since the Dirichlet conditions are described with constant functions in this example.\n",
    "\n",
    "We can perform a final check to see if we have properly imposed the Dirichlet boundary conditions. If we interpolate a constant function, namely $w(x) = -1$, in the trial FE space $U_g$, the resulting function $w_h$ has to have value equal to -1 in the nodes that are not on the Dirichlet boundary and fulfill the boundary conditions at the nodes on the Dirichlet boundary. The interpolation is done with the `interpolate` function as follows"
   ],
   "metadata": {}
  },
  {
   "outputs": [],
   "cell_type": "code",
   "source": [
    "w(x) = -1.0\n",
    "wh = interpolate(Ug,w)"
   ],
   "metadata": {},
   "execution_count": null
  },
  {
   "outputs": [],
   "cell_type": "markdown",
   "source": [
    "The computed object `wh` is an instance of `FEFunction`. We can visualize it as we have already in previous tutorials:"
   ],
   "metadata": {}
  },
  {
   "outputs": [],
   "cell_type": "code",
   "source": [
    "trian = Triangulation(model)\n",
    "writevtk(trian,\"wh\",cellfields=[\"wh\"=>wh])"
   ],
   "metadata": {},
   "execution_count": null
  },
  {
   "outputs": [],
   "cell_type": "markdown",
   "source": [
    "If you open the generated file `wh.vtu` with paraview and chose to color the solid by the field `\"wh\"` you can confirm that the interpolated function fulfills the Dirichlet boundary conditions as expected (see figure below).\n",
    "\n",
    "![](../assets/t0041_p_laplacian/wh.png)\n",
    "\n",
    "### Non-linear FE problem\n",
    "\n",
    "\n",
    "At this point, we are ready to define the non-linear FE problem. To this end, we need to define the weak residual and also its corresponding Jacobian. The particular way this is done is similar as the strategy seen in previous tutorials to define the term in the weak form in a linear problem. We will also use types inheriting from the abstract type `FETerm` to define the different terms of the problem.  In this case, instead of an `AffineFETerm` (which is for linear problems), we use a `NonLinearFETerm`. An instance of `NonLinearFETerm` is constructed as follows. First, we need to define the integrand of the weak residual. In this case:"
   ],
   "metadata": {}
  },
  {
   "outputs": [],
   "cell_type": "code",
   "source": [
    "using LinearAlgebra: norm\n",
    "const p = 3\n",
    "@law flux(x,∇u) = norm(∇u)^(p-2) * ∇u\n",
    "f(x) = 1.0\n",
    "res(u,v) = inner( ∇(v), flux(∇(u)) ) - inner(v,f)"
   ],
   "metadata": {},
   "execution_count": null
  },
  {
   "outputs": [],
   "cell_type": "markdown",
   "source": [
    "Function `res` is the one representing the integrand of the weak residual $[r(u)](v)$. The first argument of function `res` represents the function $u\\in U_g$ where the residual is evaluated. The second argument represents a generic test function $v\\in V_0$. Note that the notation we have used to define this function is the same as the one we have used in previous tutorials for linear problems. In particular, we have used the macro `@law` to construct a constitutive relation (in that case the non-linear flux associated with the gradient of the solution).\n",
    "\n",
    "On the other hand, we need to define the (integrand of the) Jacobian associated with this residual, which is done as follows"
   ],
   "metadata": {}
  },
  {
   "outputs": [],
   "cell_type": "code",
   "source": [
    "@law dflux(x,∇du,∇u) = (p-2)*norm(∇u)^(p-4)*inner(∇u,∇du)*∇u + norm(∇u)^(p-2) * ∇du\n",
    "jac(u,v,du) = inner(  ∇(v) , dflux(∇(du),∇(u)) )"
   ],
   "metadata": {},
   "execution_count": null
  },
  {
   "outputs": [],
   "cell_type": "markdown",
   "source": [
    "Function `jac` represents the integrand of the Jacobian $[j(u)](v,\\delta u)$ previously defined. The first argument of function `jac` stands for function $u\\in U_g$ where the Jacobian is evaluated. The second argument is a test function $v\\in V_0$, and finally the third argument represents an infinitesimal solution increment $\\delta u \\in V_0$. Note that we have also used the macro `@law` to define the \"linearization\" of the flux.\n",
    "\n",
    "We can finally build the `NonLinearFETerm` as follows."
   ],
   "metadata": {}
  },
  {
   "outputs": [],
   "cell_type": "code",
   "source": [
    "quad = CellQuadrature(trian,order=2)\n",
    "t_Ω = NonLinearFETerm(res,jac,trian,quad)"
   ],
   "metadata": {},
   "execution_count": null
  },
  {
   "outputs": [],
   "cell_type": "markdown",
   "source": [
    "Note that we pass in the first and second arguments the functions that represent the intgrands of the residual and Jacobian. The other two arguments, are the triangulation and quadrature used to perform the integrals numerically on the corresponding domain (in this case the volume $\\Omega$).\n",
    "\n",
    "From this `NonLinearFETerm` object, we finally construct the non-linear FE problem as follows."
   ],
   "metadata": {}
  },
  {
   "outputs": [],
   "cell_type": "code",
   "source": [
    "op = NonLinearFEOperator(V,Ug,t_Ω)"
   ],
   "metadata": {},
   "execution_count": null
  },
  {
   "outputs": [],
   "cell_type": "markdown",
   "source": [
    "In previous line, we have constructed an instance of `NonLinearFEOperator`, which is the type that represents a general non-linear FE problem in Gridap. The constructor takes the test and trial spaces of the problem, and the `FETerms` objects describing the corresponding weak form."
   ],
   "metadata": {}
  },
  {
   "outputs": [],
   "cell_type": "markdown",
   "source": [
    "### Non-linear solver phase\n",
    "\n",
    "We have already built the non-linear FE problem. Now, the remaining step is to solve it. In Gridap, non-linear (and also linear) FE problems can be solved with instances of the type `NonLinearFESolver`. The type `NonLinearFESolver` is a concrete implementation of the abstract type `FESolver` particularly designed for non-linear problems (in contrast to the concrete type `LinearFESolver` which is for the linear case).\n",
    "\n",
    "A `NonLinearFESolver` is constructed from an algebraic non-linear solver (e.g., a Newton-Raphson solver, a trust-region solver, etc.). In Gridap non-linear algebraic solvers are represented by types inheriting from the abstract type `NonLinearSolver`. Once of the concrete implementations of this abstract type available in Gridap is the `JuliaNLSolver`, which uses the `nlsove` function of the official Julia package [NLsolve](https://github.com/JuliaNLSolvers/NLsolve.jl) to solve the underlying non-linear algebraic problem.\n",
    "\n",
    "We construct an instance of `JuliaNLSolver` as follows:"
   ],
   "metadata": {}
  },
  {
   "outputs": [],
   "cell_type": "code",
   "source": [
    "using LineSearches: BackTracking\n",
    "\n",
    "ls = BackslashSolver()\n",
    "nls = JuliaNLSolver(\n",
    "  ls; show_trace=true, method=:newton, linesearch=BackTracking())"
   ],
   "metadata": {},
   "execution_count": null
  },
  {
   "outputs": [],
   "cell_type": "markdown",
   "source": [
    "The first argument of the `JuliaNLSolver` constructor takes a single positional argument and several keyword arguments. In the positional argument, we pass the linear solver we want to use at each non-linear iteration (if the chosen non-linear solution method requires to solve linear systems of algebraic equations at each iterations). In this case, we use a `BackslashSolver` which is a wrapper of the Julia built-in \"backslash\" operator. On the other hand, the valid key word arguments are the same as the ones of function `nlsolve` of the [NLsolve](https://github.com/JuliaNLSolvers/NLsolve.jl) package (see the documentation of this package for more information). Note that we are selecting a Newton-Raphson method with a back-traking line-search function. The other keyword arguments are to show and to store a trace of the iterations."
   ],
   "metadata": {}
  },
  {
   "outputs": [],
   "cell_type": "markdown",
   "source": [
    "Now, we are finally in place to build the `NonLinearFESolver` object:"
   ],
   "metadata": {}
  },
  {
   "outputs": [],
   "cell_type": "code",
   "source": [
    "solver = NonLinearFESolver(nls)"
   ],
   "metadata": {},
   "execution_count": null
  },
  {
   "outputs": [],
   "cell_type": "markdown",
   "source": [
    "To finally solve the non-linear FE problem, we need to chose an initial guess. The initial guess is a `FEFunction`, which is in this case is build from a vector for random nodal values:"
   ],
   "metadata": {}
  },
  {
   "outputs": [],
   "cell_type": "code",
   "source": [
    "import Random\n",
    "Random.seed!(1234)\n",
    "\n",
    "x = rand(Float64,num_free_dofs(Ug))\n",
    "uh = FEFunction(Ug,x)"
   ],
   "metadata": {},
   "execution_count": null
  },
  {
   "outputs": [],
   "cell_type": "markdown",
   "source": [
    "Using, the initial guess and the non-linear FE solver, we solve the problem as follows:"
   ],
   "metadata": {}
  },
  {
   "outputs": [],
   "cell_type": "code",
   "source": [
    "solve!(uh,solver,op)"
   ],
   "metadata": {},
   "execution_count": null
  },
  {
   "outputs": [],
   "cell_type": "markdown",
   "source": [
    "Note that the solve! function updates the given initial guess with the solution of the problem.  That is, once function `solve!` returns, the variable `uh` contains the solution of the problem. To visualize it, execute following line and inspect the generated file with paraview."
   ],
   "metadata": {}
  },
  {
   "outputs": [],
   "cell_type": "code",
   "source": [
    "writevtk(trian,\"results\",cellfields=[\"uh\"=>uh])"
   ],
   "metadata": {},
   "execution_count": null
  },
  {
   "outputs": [],
   "cell_type": "markdown",
   "source": [
    "![](../assets/t0041_p_laplacian/sol-plap.png)\n",
    "\n",
    "Congratulations, another tutorial done!"
   ],
   "metadata": {}
  },
  {
   "outputs": [],
   "cell_type": "markdown",
   "source": [
    "*This notebook was generated using [Literate.jl](https://github.com/fredrikekre/Literate.jl).*"
   ],
   "metadata": {}
  }
 ],
 "nbformat_minor": 3,
 "metadata": {
  "language_info": {
   "file_extension": ".jl",
   "mimetype": "application/julia",
   "name": "julia",
   "version": "1.2.0"
  },
  "kernelspec": {
   "name": "julia-1.2",
   "display_name": "Julia 1.2.0",
   "language": "julia"
  }
 },
 "nbformat": 4
}
