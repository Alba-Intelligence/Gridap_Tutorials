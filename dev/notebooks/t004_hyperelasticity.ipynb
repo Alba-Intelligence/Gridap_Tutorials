{
 "cells": [
  {
   "outputs": [],
   "cell_type": "markdown",
   "source": [
    "# Tutorial 4: Hyperelasticity\n",
    "\n",
    "\n",
    "## Problem statement"
   ],
   "metadata": {}
  },
  {
   "outputs": [],
   "cell_type": "code",
   "source": [
    "using Gridap\n",
    "using LinearAlgebra"
   ],
   "metadata": {},
   "execution_count": null
  },
  {
   "outputs": [],
   "cell_type": "markdown",
   "source": [
    "Model"
   ],
   "metadata": {}
  },
  {
   "outputs": [],
   "cell_type": "code",
   "source": [
    "#model = CartesianDiscreteModel(domain=(0.0,0.5,0.0,10.0), partition=(4,80))\n",
    "model = CartesianDiscreteModel(domain=(0.0,1.0,0.0,1.0), partition=(20,20))"
   ],
   "metadata": {},
   "execution_count": null
  },
  {
   "outputs": [],
   "cell_type": "markdown",
   "source": [
    "Construct the FEspace"
   ],
   "metadata": {}
  },
  {
   "outputs": [],
   "cell_type": "code",
   "source": [
    "order = 1\n",
    "diritags = [1,2,5]\n",
    "T = VectorValue{2,Float64}\n",
    "fespace = CLagrangianFESpace(T,model,order,diritags)\n",
    "\n",
    "g(x) = zero(T)\n",
    "V = TestFESpace(fespace)\n",
    "U = TrialFESpace(fespace,g)"
   ],
   "metadata": {},
   "execution_count": null
  },
  {
   "outputs": [],
   "cell_type": "markdown",
   "source": [
    "Setup integration"
   ],
   "metadata": {}
  },
  {
   "outputs": [],
   "cell_type": "code",
   "source": [
    "trian = Triangulation(model)\n",
    "quad = CellQuadrature(trian,order=2)\n",
    "\n",
    "neumtag = 6\n",
    "btrian = BoundaryTriangulation(model,neumtag)\n",
    "bquad = CellQuadrature(btrian,order=2)"
   ],
   "metadata": {},
   "execution_count": null
  },
  {
   "outputs": [],
   "cell_type": "markdown",
   "source": [
    "Material parameters"
   ],
   "metadata": {}
  },
  {
   "outputs": [],
   "cell_type": "code",
   "source": [
    "const λ = 30.0\n",
    "const μ = 40.0"
   ],
   "metadata": {},
   "execution_count": null
  },
  {
   "outputs": [],
   "cell_type": "markdown",
   "source": [
    "Identity tensor"
   ],
   "metadata": {}
  },
  {
   "outputs": [],
   "cell_type": "code",
   "source": [
    "const I = one(TensorValue{2,Float64,4})"
   ],
   "metadata": {},
   "execution_count": null
  },
  {
   "outputs": [],
   "cell_type": "markdown",
   "source": [
    "Deformation Gradient"
   ],
   "metadata": {}
  },
  {
   "outputs": [],
   "cell_type": "code",
   "source": [
    "F(∇u) = I + ∇u'\n",
    "\n",
    "J(F) = det(F)\n",
    "\n",
    "#Green strain\n",
    "\n",
    "E(F) = 0.5*( F'*F - I )\n",
    "\n",
    "@law dE(x,∇du,∇u) = 0.5*( ∇du*F(∇u) + (∇du*F(∇u))' )"
   ],
   "metadata": {},
   "execution_count": null
  },
  {
   "outputs": [],
   "cell_type": "markdown",
   "source": [
    "Right Cauchy-green deformation tensor"
   ],
   "metadata": {}
  },
  {
   "outputs": [],
   "cell_type": "code",
   "source": [
    "C(F) = (F')*F"
   ],
   "metadata": {},
   "execution_count": null
  },
  {
   "outputs": [],
   "cell_type": "markdown",
   "source": [
    "Constitutive law (Neo hookean)"
   ],
   "metadata": {}
  },
  {
   "outputs": [],
   "cell_type": "code",
   "source": [
    "@law function S(x,∇u)\n",
    "  Cinv = inv(C(F(∇u)))\n",
    "  μ*(I-Cinv) + λ*log(J(F(∇u)))*Cinv\n",
    "end\n",
    "\n",
    "@law function dS(x,∇du,∇u)\n",
    "  Cinv = inv(C(F(∇u)))\n",
    "  _dE = dE(x,∇du,∇u)\n",
    "  λ*inner(Cinv,_dE)*Cinv + 2*(μ-λ*log(J(F(∇u))))*Cinv*_dE*(Cinv')\n",
    "end"
   ],
   "metadata": {},
   "execution_count": null
  },
  {
   "outputs": [],
   "cell_type": "markdown",
   "source": [
    "Cauchy stress tensor"
   ],
   "metadata": {}
  },
  {
   "outputs": [],
   "cell_type": "code",
   "source": [
    "@law σ(x,∇u) = (1.0/J(F(∇u)))*F(∇u)*S(x,∇u)*(F(∇u))'"
   ],
   "metadata": {},
   "execution_count": null
  },
  {
   "outputs": [],
   "cell_type": "markdown",
   "source": [
    "Weak form"
   ],
   "metadata": {}
  },
  {
   "outputs": [],
   "cell_type": "code",
   "source": [
    "res(u,v) = inner( dE(∇(v),∇(u)) , S(∇(u)) )\n",
    "\n",
    "jac_mat(u,v,du) = inner( dE(∇(v),∇(u)), dS(∇(du),∇(u)) )\n",
    "\n",
    "jac_geo(u,v,du) = inner( ∇(v), S(∇(u))*∇(du) )\n",
    "\n",
    "jac(u,v,du) = jac_mat(u,v,du) + jac_geo(u,v,du)\n",
    "\n",
    "t_Ω = NonLinearFETerm(res,jac,trian,quad)\n",
    "\n",
    "t(x) = VectorValue(0.00,50.0)\n",
    "\n",
    "source(v) = inner(v, t)\n",
    "\n",
    "t_Γ = FESource(source,btrian,bquad)"
   ],
   "metadata": {},
   "execution_count": null
  },
  {
   "outputs": [],
   "cell_type": "markdown",
   "source": [
    "FE problem"
   ],
   "metadata": {}
  },
  {
   "outputs": [],
   "cell_type": "code",
   "source": [
    "op = NonLinearFEOperator(V,U,t_Ω,t_Γ)"
   ],
   "metadata": {},
   "execution_count": null
  },
  {
   "outputs": [],
   "cell_type": "markdown",
   "source": [
    "Define the FESolver"
   ],
   "metadata": {}
  },
  {
   "outputs": [],
   "cell_type": "code",
   "source": [
    "ls = LUSolver()\n",
    "tol = 1.e-10\n",
    "maxiters = 20\n",
    "nls = NewtonRaphsonSolver(ls,tol,maxiters)\n",
    "solver = NonLinearFESolver(nls)"
   ],
   "metadata": {},
   "execution_count": null
  },
  {
   "outputs": [],
   "cell_type": "markdown",
   "source": [
    "Solve!"
   ],
   "metadata": {}
  },
  {
   "outputs": [],
   "cell_type": "code",
   "source": [
    "free_vals = 0.00001*rand(Float64,num_free_dofs(U))\n",
    "uh = FEFunction(U,free_vals)\n",
    "solve!(uh,solver,op)\n",
    "\n",
    "writevtk(trian,\"results\",nref=2,cellfields=[\"uh\"=>uh,\"sigma\"=>σ(∇(uh))])"
   ],
   "metadata": {},
   "execution_count": null
  },
  {
   "outputs": [],
   "cell_type": "markdown",
   "source": [
    "*This notebook was generated using [Literate.jl](https://github.com/fredrikekre/Literate.jl).*"
   ],
   "metadata": {}
  }
 ],
 "nbformat_minor": 3,
 "metadata": {
  "language_info": {
   "file_extension": ".jl",
   "mimetype": "application/julia",
   "name": "julia",
   "version": "1.2.0"
  },
  "kernelspec": {
   "name": "julia-1.2",
   "display_name": "Julia 1.2.0",
   "language": "julia"
  }
 },
 "nbformat": 4
}
