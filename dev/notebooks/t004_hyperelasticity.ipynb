{
 "cells": [
  {
   "outputs": [],
   "cell_type": "markdown",
   "source": [
    "# Tutorial 4: Hyperelasticity\n",
    "\n",
    "\n",
    "## Problem statement"
   ],
   "metadata": {}
  },
  {
   "outputs": [],
   "cell_type": "code",
   "source": [
    "using Gridap\n",
    "using LinearAlgebra: inv, det\n",
    "using LineSearches: BackTracking"
   ],
   "metadata": {},
   "execution_count": null
  },
  {
   "outputs": [],
   "cell_type": "markdown",
   "source": [
    "Material parameters"
   ],
   "metadata": {}
  },
  {
   "outputs": [],
   "cell_type": "code",
   "source": [
    "const λ = 100.0\n",
    "const μ = 1.0"
   ],
   "metadata": {},
   "execution_count": null
  },
  {
   "outputs": [],
   "cell_type": "markdown",
   "source": [
    "Deformation Gradient"
   ],
   "metadata": {}
  },
  {
   "outputs": [],
   "cell_type": "code",
   "source": [
    "F(∇u) = one(∇u) + ∇u'\n",
    "\n",
    "J(F) = sqrt(det(C(F)))\n",
    "\n",
    "#Green strain\n",
    "\n",
    "#E(F) = 0.5*( F'*F - one(F) )\n",
    "\n",
    "@law dE(x,∇du,∇u) = 0.5*( ∇du*F(∇u) + (∇du*F(∇u))' )"
   ],
   "metadata": {},
   "execution_count": null
  },
  {
   "outputs": [],
   "cell_type": "markdown",
   "source": [
    "Right Cauchy-green deformation tensor"
   ],
   "metadata": {}
  },
  {
   "outputs": [],
   "cell_type": "code",
   "source": [
    "C(F) = (F')*F"
   ],
   "metadata": {},
   "execution_count": null
  },
  {
   "outputs": [],
   "cell_type": "markdown",
   "source": [
    "Constitutive law (Neo hookean)"
   ],
   "metadata": {}
  },
  {
   "outputs": [],
   "cell_type": "code",
   "source": [
    "@law function S(x,∇u)\n",
    "  Cinv = inv(C(F(∇u)))\n",
    "  μ*(one(∇u)-Cinv) + λ*log(J(F(∇u)))*Cinv\n",
    "end\n",
    "\n",
    "@law function dS(x,∇du,∇u)\n",
    "  Cinv = inv(C(F(∇u)))\n",
    "  _dE = dE(x,∇du,∇u)\n",
    "  λ*inner(Cinv,_dE)*Cinv + 2*(μ-λ*log(J(F(∇u))))*Cinv*_dE*(Cinv')\n",
    "end"
   ],
   "metadata": {},
   "execution_count": null
  },
  {
   "outputs": [],
   "cell_type": "markdown",
   "source": [
    "Cauchy stress tensor"
   ],
   "metadata": {}
  },
  {
   "outputs": [],
   "cell_type": "code",
   "source": [
    "@law σ(x,∇u) = (1.0/J(F(∇u)))*F(∇u)*S(x,∇u)*(F(∇u))'"
   ],
   "metadata": {},
   "execution_count": null
  },
  {
   "outputs": [],
   "cell_type": "markdown",
   "source": [
    "Weak form"
   ],
   "metadata": {}
  },
  {
   "outputs": [],
   "cell_type": "code",
   "source": [
    "res(u,v) = inner( dE(∇(v),∇(u)) , S(∇(u)) )\n",
    "\n",
    "jac_mat(u,v,du) = inner( dE(∇(v),∇(u)), dS(∇(du),∇(u)) )\n",
    "\n",
    "jac_geo(u,v,du) = inner( ∇(v), S(∇(u))*∇(du) )\n",
    "\n",
    "jac(u,v,du) = jac_mat(u,v,du) + jac_geo(u,v,du)"
   ],
   "metadata": {},
   "execution_count": null
  },
  {
   "outputs": [],
   "cell_type": "markdown",
   "source": [
    "Model"
   ],
   "metadata": {}
  },
  {
   "outputs": [],
   "cell_type": "code",
   "source": [
    "model = CartesianDiscreteModel(domain=(0.0,1.0,0.0,1.0), partition=(20,20))"
   ],
   "metadata": {},
   "execution_count": null
  },
  {
   "outputs": [],
   "cell_type": "markdown",
   "source": [
    "Define new boundaries"
   ],
   "metadata": {}
  },
  {
   "outputs": [],
   "cell_type": "code",
   "source": [
    "labels = FaceLabels(model)\n",
    "add_tag_from_tags!(labels,\"diri_0\",[1,3,7])\n",
    "add_tag_from_tags!(labels,\"diri_1\",[2,4,8])"
   ],
   "metadata": {},
   "execution_count": null
  },
  {
   "outputs": [],
   "cell_type": "markdown",
   "source": [
    "Construct the FEspace"
   ],
   "metadata": {}
  },
  {
   "outputs": [],
   "cell_type": "code",
   "source": [
    "order = 1\n",
    "diritags = [\"diri_0\", \"diri_1\"]\n",
    "T = VectorValue{2,Float64}\n",
    "fespace = CLagrangianFESpace(T,model,labels,order,diritags)\n",
    "V = TestFESpace(fespace)"
   ],
   "metadata": {},
   "execution_count": null
  },
  {
   "outputs": [],
   "cell_type": "markdown",
   "source": [
    "Setup integration"
   ],
   "metadata": {}
  },
  {
   "outputs": [],
   "cell_type": "code",
   "source": [
    "trian = Triangulation(model)\n",
    "quad = CellQuadrature(trian,order=2)\n",
    "\n",
    "function run(x0,disp_x,step,nsteps)\n",
    "\n",
    "  g0 = zero(T)\n",
    "  g1 = VectorValue(disp_x,0.0)\n",
    "  U = TrialFESpace(fespace,[g0,g1])\n",
    "\n",
    "  #FE problem\n",
    "  t_Ω = NonLinearFETerm(res,jac,trian,quad)\n",
    "  op = NonLinearFEOperator(V,U,t_Ω)\n",
    "\n",
    "  nls = JuliaNLSolver(\n",
    "    show_trace=true,\n",
    "    method=:newton,\n",
    "    linesearch=BackTracking())\n",
    "\n",
    "  solver = NonLinearFESolver(nls)\n",
    "\n",
    "\n",
    "  println()\n",
    "  println(\"+++ Solving for disp_x $disp_x in step $step of $nsteps +++\")\n",
    "  println()\n",
    "\n",
    "  uh = FEFunction(U,x0)\n",
    "\n",
    "  solve!(uh,solver,op)\n",
    "\n",
    "  writevtk(trian,\"results_$(lpad(step,3,'0'))\",cellfields=[\"uh\"=>uh,\"sigma\"=>σ(∇(uh))])\n",
    "\n",
    "  return free_dofs(uh)\n",
    "\n",
    "end\n",
    "\n",
    "function runs()\n",
    "\n",
    " disp_max = 0.75\n",
    " disp_inc = 0.02\n",
    " nsteps = ceil(Int,abs(disp_max)/disp_inc)\n",
    "\n",
    " x0 = zeros(Float64,num_free_dofs(fespace))\n",
    "\n",
    " for step in 1:nsteps\n",
    "   disp_x = step * disp_max / nsteps\n",
    "   x0 = run(x0,disp_x,step,nsteps)\n",
    " end\n",
    "\n",
    "end\n",
    "\n",
    "#Do the work!\n",
    "runs()"
   ],
   "metadata": {},
   "execution_count": null
  },
  {
   "outputs": [],
   "cell_type": "markdown",
   "source": [
    "*This notebook was generated using [Literate.jl](https://github.com/fredrikekre/Literate.jl).*"
   ],
   "metadata": {}
  }
 ],
 "nbformat_minor": 3,
 "metadata": {
  "language_info": {
   "file_extension": ".jl",
   "mimetype": "application/julia",
   "name": "julia",
   "version": "1.2.0"
  },
  "kernelspec": {
   "name": "julia-1.2",
   "display_name": "Julia 1.2.0",
   "language": "julia"
  }
 },
 "nbformat": 4
}
