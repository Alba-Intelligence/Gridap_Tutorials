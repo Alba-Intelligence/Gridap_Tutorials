{
 "cells": [
  {
   "outputs": [],
   "cell_type": "markdown",
   "source": [
    "# Tutorial 3: Linear elasticity\n",
    "\n",
    "\n",
    "## Learning outcomes\n",
    "\n",
    "- How to approximate vector-valued problems\n",
    "- How to solve problems with complex constitutive laws\n",
    "- How to impose Dirichlet boundary conditions only in selected components\n",
    "- How to impose Dirichlet boundary conditions described by more than one function\n",
    "\n",
    "## Problem statement\n",
    "\n",
    "![](../models/solid.png)"
   ],
   "metadata": {}
  },
  {
   "outputs": [],
   "cell_type": "markdown",
   "source": [
    "Lorem ipsum dolor sit amet, consectetur adipiscing elit, sed do eiusmod tempor incididunt ut labore et dolore magna aliqua. Ut enim ad minim veniam, quis nostrud exercitation ullamco laboris nisi ut aliquip ex ea commodo consequat. Duis aute irure dolor in reprehenderit in voluptate velit esse cillum dolore eu fugiat nulla pariatur."
   ],
   "metadata": {}
  },
  {
   "outputs": [],
   "cell_type": "markdown",
   "source": [
    "## Constitutive law"
   ],
   "metadata": {}
  },
  {
   "outputs": [],
   "cell_type": "code",
   "source": [
    "using Gridap\n",
    "\n",
    "const E = 70.0e9\n",
    "const ν = 0.33\n",
    "const λ = (E*ν)/((1+ν)*(1-2*ν))\n",
    "const μ = E/(2*(1+ν))\n",
    "\n",
    "@law σ(x,ε) = λ*tr(ε)*one(ε) + 2*μ*ε"
   ],
   "metadata": {},
   "execution_count": null
  },
  {
   "outputs": [],
   "cell_type": "markdown",
   "source": [
    "## Vector-valued FE space"
   ],
   "metadata": {}
  },
  {
   "outputs": [],
   "cell_type": "code",
   "source": [
    "model = DiscreteModelFromFile(\"../models/solid.json\");\n",
    "\n",
    "const T = VectorValue{3,Float64}\n",
    "diritags = [\"surface_1\",\"surface_2\"]\n",
    "dirimasks = [(true,false,false), (true,true,true)]\n",
    "\n",
    "order = 1\n",
    "V = CLagrangianFESpace(T,model,order,diritags,dirimasks)\n",
    "\n",
    "g1(x) = VectorValue(0.005,0.0,0.0)\n",
    "g2(x) = zero(T)\n",
    "U = TrialFESpace(V,[g1,g2])\n",
    "V0 = TestFESpace(V)\n",
    "\n",
    "trian = Triangulation(model)\n",
    "quad = CellQuadrature(trian,order=2)\n",
    "\n",
    "a(v,u) = inner( ε(v), σ(ε(u)) )\n",
    "t_Ω = LinearFETerm(a,trian,quad)\n",
    "\n",
    "op = LinearFEOperator(V0,U,t_Ω)\n",
    "\n",
    "uh = solve(op)\n",
    "\n",
    "writevtk(trian,\"results\",cellfields=[\"uh\"=>uh])"
   ],
   "metadata": {},
   "execution_count": null
  },
  {
   "outputs": [],
   "cell_type": "markdown",
   "source": [
    "Deformation magnified 40 times\n",
    "![](../assets/t003_elasticity/disp_ux_40.png)\n",
    "\n",
    " Tutorial done!"
   ],
   "metadata": {}
  },
  {
   "outputs": [],
   "cell_type": "markdown",
   "source": [
    "*This notebook was generated using [Literate.jl](https://github.com/fredrikekre/Literate.jl).*"
   ],
   "metadata": {}
  }
 ],
 "nbformat_minor": 3,
 "metadata": {
  "language_info": {
   "file_extension": ".jl",
   "mimetype": "application/julia",
   "name": "julia",
   "version": "1.2.0"
  },
  "kernelspec": {
   "name": "julia-1.2",
   "display_name": "Julia 1.2.0",
   "language": "julia"
  }
 },
 "nbformat": 4
}
