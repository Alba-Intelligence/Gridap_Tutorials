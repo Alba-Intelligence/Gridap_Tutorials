{
 "cells": [
  {
   "outputs": [],
   "cell_type": "markdown",
   "source": [
    "# Tutorial 2: Code validation\n",
    "\n",
    "\n",
    "## Learning outcomes\n",
    "\n",
    "- How to use the method of manufactured solutions\n",
    "- How to perform a convergence test\n",
    "- How to define the discretization error\n",
    "- How to integrate error norms\n",
    "- How to generate Cartesian meshes in arbitrary dimensions\n",
    "\n",
    "## Problem statement"
   ],
   "metadata": {}
  },
  {
   "outputs": [],
   "cell_type": "markdown",
   "source": [
    "Lorem ipsum dolor sit amet, consectetur adipiscing elit, sed do eiusmod tempor incididunt ut labore et dolore magna aliqua. Ut enim ad minim veniam, quis nostrud exercitation ullamco laboris nisi ut aliquip ex ea commodo consequat. Duis aute irure dolor in reprehenderit in voluptate velit esse cillum dolore eu fugiat nulla pariatur."
   ],
   "metadata": {}
  },
  {
   "outputs": [],
   "cell_type": "code",
   "source": [
    "using Gridap\n",
    "\n",
    "u(x) = x[1] + x[2]\n",
    "∇u(x) = VectorValue(1.0,1.0)\n",
    "f(x) = 0.0\n",
    "\n",
    "import Gridap: ∇\n",
    "∇(::typeof(u)) = ∇u\n",
    "\n",
    "limits = (0.0,1.0,0.0,1.0)\n",
    "model = CartesianDiscreteModel(domain=limits, partition=(20,20))\n",
    "\n",
    "order = 1\n",
    "diritag = \"boundary\"\n",
    "V = CLagrangianFESpace(Float64,model,order,diritag)\n",
    "\n",
    "V0 = TestFESpace(V)\n",
    "U = TrialFESpace(V,u)\n",
    "\n",
    "trian = Triangulation(model)\n",
    "quad = CellQuadrature(trian,order=2)\n",
    "\n",
    "a(v,u) = inner(∇(v), ∇(u))\n",
    "b(v) = inner(v,f)\n",
    "\n",
    "t_Ω = AffineFETerm(a,b,trian,quad)\n",
    "op = LinearFEOperator(V0,U,t_Ω)\n",
    "\n",
    "uh = solve(op)\n",
    "\n",
    "e = u - uh\n",
    "\n",
    "l2(u) = inner(u,u)\n",
    "h1(u) = a(u,u) + l2(u)\n",
    "\n",
    "el2 = sqrt(sum( integrate(l2(e),trian,quad) ))\n",
    "eh1 = sqrt(sum( integrate(h1(e),trian,quad) ))\n",
    "\n",
    "tol = 1.e-8\n",
    "@assert el2 < tol\n",
    "@assert eh1 < tol\n",
    "\n",
    "const k = 2*pi\n",
    "\n",
    "u(x) = sin(k*x[1]) * x[2]\n",
    "∇u(x) = VectorValue(k*cos(k*x[1])*x[2], sin(k*x[1]))\n",
    "f(x) = (k^2)*sin(k*x[1])*x[2]\n",
    "\n",
    "∇(::typeof(u)) = ∇u\n",
    "\n",
    "b(v) = inner(v,f)\n",
    "\n",
    "function run(n,order)\n",
    "\n",
    "  limits = (0.0,1.0,0.0,1.0)\n",
    "  model = CartesianDiscreteModel(domain=limits, partition=(n,n))\n",
    "\n",
    "  diritag = \"boundary\"\n",
    "  V = CLagrangianFESpace(Float64,model,order,diritag)\n",
    "\n",
    "  V0 = TestFESpace(V)\n",
    "  U = TrialFESpace(V,u)\n",
    "\n",
    "  trian = Triangulation(model)\n",
    "  quad = CellQuadrature(trian,order=order+2)\n",
    "\n",
    "  t_Ω = AffineFETerm(a,b,trian,quad)\n",
    "  op = LinearFEOperator(V0,U,t_Ω)\n",
    "\n",
    "  uh = solve(op)\n",
    "\n",
    "  e = u - uh\n",
    "\n",
    "  el2 = sqrt(sum( integrate(l2(e),trian,quad) ))\n",
    "  eh1 = sqrt(sum( integrate(h1(e),trian,quad) ))\n",
    "\n",
    "  (el2, eh1)\n",
    "\n",
    "end\n",
    "\n",
    "function conv_test(ns,order)\n",
    "\n",
    "  el2s = Float64[]\n",
    "  eh1s = Float64[]\n",
    "  hs = Float64[]\n",
    "\n",
    "  for n in ns\n",
    "\n",
    "    el2, eh1 = run(n,order)\n",
    "    h = 1.0/n\n",
    "\n",
    "    push!(el2s,el2)\n",
    "    push!(eh1s,eh1)\n",
    "    push!(hs,h)\n",
    "\n",
    "  end\n",
    "\n",
    "  (el2s, eh1s, hs)\n",
    "\n",
    "end"
   ],
   "metadata": {},
   "execution_count": null
  },
  {
   "outputs": [],
   "cell_type": "markdown",
   "source": [
    "Loooo"
   ],
   "metadata": {}
  },
  {
   "outputs": [],
   "cell_type": "code",
   "source": [
    "el2s, eh1s, hs = conv_test([8,16,32,64,128],2)"
   ],
   "metadata": {},
   "execution_count": null
  },
  {
   "outputs": [],
   "cell_type": "markdown",
   "source": [
    "Loooo"
   ],
   "metadata": {}
  },
  {
   "outputs": [],
   "cell_type": "code",
   "source": [
    "using Plots\n",
    "\n",
    "plot(hs,[el2s eh1s],\n",
    "    xaxis=:log, yaxis=:log,\n",
    "    label=[\"L2\" \"H1\"],\n",
    "    shape=:auto,\n",
    "    xlabel=\"h\",ylabel=\"error norm\")\n",
    "\n",
    "\n",
    "\n",
    "function slope(hs,errors)\n",
    "  x = log10.(hs)\n",
    "  y = log10.(errors)\n",
    "  linreg = hcat(fill!(similar(x), 1), x) \\ y\n",
    "  linreg[2]\n",
    "end\n",
    "\n",
    "slope(hs,el2s)\n",
    "\n",
    "slope(hs,eh1s)"
   ],
   "metadata": {},
   "execution_count": null
  },
  {
   "outputs": [],
   "cell_type": "markdown",
   "source": [
    "*This notebook was generated using [Literate.jl](https://github.com/fredrikekre/Literate.jl).*"
   ],
   "metadata": {}
  }
 ],
 "nbformat_minor": 3,
 "metadata": {
  "language_info": {
   "file_extension": ".jl",
   "mimetype": "application/julia",
   "name": "julia",
   "version": "1.2.0"
  },
  "kernelspec": {
   "name": "julia-1.2",
   "display_name": "Julia 1.2.0",
   "language": "julia"
  }
 },
 "nbformat": 4
}
