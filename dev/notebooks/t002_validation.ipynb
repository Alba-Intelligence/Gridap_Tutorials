{
 "cells": [
  {
   "outputs": [],
   "cell_type": "markdown",
   "source": [
    "# Tutorial 2: Code validation\n",
    "\n",
    "\n",
    "## Learning outcomes\n",
    "\n",
    "- How to use the method of manufactured solutions\n",
    "- How to perform a convergence test\n",
    "- How to define the discretization error\n",
    "- How to integrate error norms\n",
    "- How to generate Cartesian meshes in arbitrary dimensions\n",
    "\n",
    "## Problem statement"
   ],
   "metadata": {}
  },
  {
   "outputs": [],
   "cell_type": "markdown",
   "source": [
    "Lorem ipsum dolor sit amet, consectetur adipiscing elit, sed do eiusmod tempor incididunt ut labore et dolore magna aliqua. Ut enim ad minim veniam, quis nostrud exercitation ullamco laboris nisi ut aliquip ex ea commodo consequat. Duis aute irure dolor in reprehenderit in voluptate velit esse cillum dolore eu fugiat nulla pariatur."
   ],
   "metadata": {}
  },
  {
   "outputs": [],
   "cell_type": "code",
   "source": [
    "using Gridap\n",
    "\n",
    "u(x) = x[1] + x[2]\n",
    "∇u(x) = VectorValue(1.0,1.0)\n",
    "f(x) = 0.0\n",
    "\n",
    "import Gridap: ∇\n",
    "∇(::typeof(u)) = ∇u\n",
    "\n",
    "model = CartesianDiscreteModel(domain=(0.0,1.0,0.0,1.0), partition=(4,4))\n",
    "\n",
    "order = 1\n",
    "diritag = \"boundary\"\n",
    "V = CLagrangianFESpace(Float64,model,order,diritag)\n",
    "\n",
    "V0 = TestFESpace(V)\n",
    "U = TrialFESpace(V,u)\n",
    "\n",
    "trian = Triangulation(model)\n",
    "quad = CellQuadrature(trian,order=2)\n",
    "\n",
    "a(v,u) = inner(∇(v), ∇(u))\n",
    "b(v) = inner(v,f)\n",
    "\n",
    "t_Ω = AffineFETerm(a,b,trian,quad)\n",
    "assem = SparseMatrixAssembler(V0,U)\n",
    "op = LinearFEOperator(V0,U,assem,t_Ω)\n",
    "\n",
    "#TODO\n",
    "#op = LinearFEOperator(V0,U,t_Ω)\n",
    "\n",
    "ls = LUSolver()\n",
    "solver = LinearFESolver(ls)\n",
    "uh = solve(solver,op)\n",
    "\n",
    "#TODO\n",
    "#uh = solve(op)\n",
    "\n",
    "e = CellField(trian,u) - uh\n",
    "\n",
    "#TODO\n",
    "#e = u - uh\n",
    "\n",
    "l2(u) = inner(u,u)\n",
    "h1(u) = a(u,u) + l2(u)\n",
    "\n",
    "el2 = sqrt(sum( integrate(l2(e),trian,quad) ))\n",
    "eh1 = sqrt(sum( integrate(h1(e),trian,quad) ))\n",
    "\n",
    "tol = 1.e-8\n",
    "@assert el2 < tol\n",
    "@assert eh1 < tol"
   ],
   "metadata": {},
   "execution_count": null
  },
  {
   "outputs": [],
   "cell_type": "markdown",
   "source": [
    "*This notebook was generated using [Literate.jl](https://github.com/fredrikekre/Literate.jl).*"
   ],
   "metadata": {}
  }
 ],
 "nbformat_minor": 3,
 "metadata": {
  "language_info": {
   "file_extension": ".jl",
   "mimetype": "application/julia",
   "name": "julia",
   "version": "1.2.0"
  },
  "kernelspec": {
   "name": "julia-1.2",
   "display_name": "Julia 1.2.0",
   "language": "julia"
  }
 },
 "nbformat": 4
}
