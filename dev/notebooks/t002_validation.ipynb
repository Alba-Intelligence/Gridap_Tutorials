{
 "cells": [
  {
   "outputs": [],
   "cell_type": "markdown",
   "source": [
    "# Tutorial 2: Code validation\n",
    "\n",
    "\n",
    "## Learning outcomes\n",
    "\n",
    "- How to implement the method of manufactured solutions\n",
    "- How to perform a convergence test\n",
    "- How to define the discretization error\n",
    "- How to integrate error norms\n",
    "- How to generate Cartesian meshes in arbitrary dimensions\n",
    "\n",
    "## Problem statement\n",
    "\n",
    "In this tutorial, we show how to validate a code using the well known *method of manufactured solutions*. For the sake of simplicity, we consider the Poisson equation in the unit square $\\Omega\\doteq (0,1)^2$ as a model problem,\n",
    "\n",
    "\n",
    "$$\n",
    "\\left\\lbrace\n",
    "\\begin{aligned}\n",
    "-\\Delta u = f  \\ \\text{in} \\ \\Omega\\\\\n",
    "u = g \\ \\text{on}\\ \\partial\\Omega.\\\\\n",
    "\\end{aligned}\n",
    "\\right.\n",
    "$$\n",
    "\n",
    "We are going to consider two different manufactured solutions. On the one hand, we consider function $u(x)=x_1+x_2$, which can be exactly represented by the FE interpolation that we construct below. Thus, one expects that the obtained approximation error is near the machine precision. We are going to check that this is true in the code. On the other hand, we consider a function that cannot be captured exactly by the interpolation, namely $u(x)=x_2 \\sin(2 \\pi\\ x_1)$. Here, our goal is to confirm that the convergence order of the discretization error is the optimal one.\n",
    "\n",
    "\n",
    "## Manufactured solution\n",
    "\n",
    "We start by defining the manufactured solution $u(x) = x_1+x_2$ and the source term $f$ associated with it, namely $f\\doteq-\\Delta(x_1+x_2)=0$."
   ],
   "metadata": {}
  },
  {
   "outputs": [],
   "cell_type": "code",
   "source": [
    "using Gridap\n",
    "\n",
    "u(x) = x[1] + x[2]\n",
    "f(x) = 0.0"
   ],
   "metadata": {},
   "execution_count": null
  },
  {
   "outputs": [],
   "cell_type": "markdown",
   "source": [
    "Note that it is important that function `f` returns a `Float64` value. This is needed since we are going to use `Float64` numbers to represent the solution.\n",
    "\n",
    "We also need to define the gradient of $u$ since we will compute the $H^1$ error norm later. In that case, the gradient is simply defined as"
   ],
   "metadata": {}
  },
  {
   "outputs": [],
   "cell_type": "code",
   "source": [
    "∇u(x) = VectorValue(1.0,1.0)"
   ],
   "metadata": {},
   "execution_count": null
  },
  {
   "outputs": [],
   "cell_type": "markdown",
   "source": [
    "Note that we have used the constructor `VectorValue` to build the vector that represents the gradient. However, we still need a final trick. We need to tell the Gridap library that the gradient of the function `u` is available in the function `∇u` (at this moment `u` and `∇u` are two standard Julia functions without any connection between them). This is done by adding an extra method to the function `gradient` (aka `∇`) defined in Gridap:"
   ],
   "metadata": {}
  },
  {
   "outputs": [],
   "cell_type": "code",
   "source": [
    "import Gridap: ∇\n",
    "∇(::typeof(u)) = ∇u"
   ],
   "metadata": {},
   "execution_count": null
  },
  {
   "outputs": [],
   "cell_type": "markdown",
   "source": [
    "Now, it is possible to recover function `∇u` from function `u` as `∇(u)`. You can check that the following expression evaluates to `true`."
   ],
   "metadata": {}
  },
  {
   "outputs": [],
   "cell_type": "code",
   "source": [
    "∇(u) === ∇u"
   ],
   "metadata": {},
   "execution_count": null
  },
  {
   "outputs": [],
   "cell_type": "markdown",
   "source": [
    "## Cartesian mesh generation\n",
    "\n",
    "In order to discretized the geometry of the unit square, we use the Cartesian mesh generator available in Gridap:"
   ],
   "metadata": {}
  },
  {
   "outputs": [],
   "cell_type": "code",
   "source": [
    "limits = (0.0, 1.0, 0.0, 1.0)\n",
    "model = CartesianDiscreteModel(domain=limits, partition=(4,4));"
   ],
   "metadata": {},
   "execution_count": null
  },
  {
   "outputs": [],
   "cell_type": "markdown",
   "source": [
    "The type `CartesianDiscreteModel` is a concrete type that inherits from `DiscreteModel`, which is specifically designed for building Cartesian meshes. The `CartesianDiscreteModel` constructor takes a tuple containing limits of the box we want to discretize  plus a tuple with the number of cells to be generated in each direction (here 4 by 4 cells). Note that the `CaresianDiscreteModel` is implemented for arbitrary dimensions. For instance, the following lines build a `CartesianDiscreteModel`  for the unit cube $(0,1)^3$ with 4 cells per direction"
   ],
   "metadata": {}
  },
  {
   "outputs": [],
   "cell_type": "code",
   "source": [
    "limits3d = (0.0, 1.0, 0.0, 1.0, 0.0, 1.0)\n",
    "model3d = CartesianDiscreteModel(domain=limits3d, partition=(4,4,4));"
   ],
   "metadata": {},
   "execution_count": null
  },
  {
   "outputs": [],
   "cell_type": "markdown",
   "source": [
    "You could also generate a mesh for the unit tesseract $(0,1)^4$ (i.e., the unit cube in 4D). Look how the 2D and 3D models are build and just follow the sequence."
   ],
   "metadata": {}
  },
  {
   "outputs": [],
   "cell_type": "markdown",
   "source": [
    "Let us return to the 2D `CartesianDiscreteModel` that we have already constructed. You can inspect it by writing it into vtk format. Note that you can also print a 3D model, but not a 4D one. In the future, it would be cool to generate a movie from a 4D model, but this functionality is not yet implemented."
   ],
   "metadata": {}
  },
  {
   "outputs": [],
   "cell_type": "code",
   "source": [
    "writevtk(model,\"model\");"
   ],
   "metadata": {},
   "execution_count": null
  },
  {
   "outputs": [],
   "cell_type": "markdown",
   "source": [
    "If you open the generated files, you will see that the boundary vertices and facets are identified with the name \"boundary\". This is just what we need to impose the Dirichlet boundary conditions in this example.\n",
    "\n",
    "These are the vertices in the model\n",
    "\n",
    "![](../assets/t002_validation/model_0.png)\n",
    "\n",
    "and these the facets\n",
    "\n",
    "![](../assets/t002_validation/model_1.png)"
   ],
   "metadata": {}
  },
  {
   "outputs": [],
   "cell_type": "markdown",
   "source": [
    "## FE approximation\n",
    "\n",
    "We compute a FE approximation of the Poisson problem above by following the steps detailed in previous tutorial:"
   ],
   "metadata": {}
  },
  {
   "outputs": [],
   "cell_type": "code",
   "source": [
    "order = 1\n",
    "diritag = \"boundary\"\n",
    "V = CLagrangianFESpace(Float64,model,order,diritag)\n",
    "\n",
    "V0 = TestFESpace(V)\n",
    "U = TrialFESpace(V,u)\n",
    "\n",
    "trian = Triangulation(model)\n",
    "quad = CellQuadrature(trian,order=2)\n",
    "\n",
    "a(v,u) = inner(∇(v), ∇(u))\n",
    "b(v) = inner(v,f)\n",
    "\n",
    "t_Ω = AffineFETerm(a,b,trian,quad)\n",
    "op = LinearFEOperator(V0,U,t_Ω)\n",
    "\n",
    "uh = solve(op);"
   ],
   "metadata": {},
   "execution_count": null
  },
  {
   "outputs": [],
   "cell_type": "markdown",
   "source": [
    "Note that we are imposing Dirichlet boundary conditions on the objects tagged as \"boundary\" and that we are using the manufactured solution `u` to construct the trial FE space. Not also that we are not explicitly constructing an `Assembler` object nor a `FESolver`. We are relying on default values.\n",
    "\n",
    "\n",
    "## Measuring the discretization error\n",
    "\n",
    "Our goal is to check that the discratization error associated with the computed approximation `uh` is near machine precision. To this end, the first step is to compute the discretization error, which is done as you would expect:"
   ],
   "metadata": {}
  },
  {
   "outputs": [],
   "cell_type": "code",
   "source": [
    "e = u - uh;"
   ],
   "metadata": {},
   "execution_count": null
  },
  {
   "outputs": [],
   "cell_type": "markdown",
   "source": [
    "Once the error is defined, you can, e.g., visualize it."
   ],
   "metadata": {}
  },
  {
   "outputs": [],
   "cell_type": "code",
   "source": [
    "writevtk(trian,\"error\",cellfields=[\"e\" => e]);"
   ],
   "metadata": {},
   "execution_count": null
  },
  {
   "outputs": [],
   "cell_type": "markdown",
   "source": [
    "This generates a file called `error.vtu`. Open it with Paraview to check that the error is of the order of the machine precision.\n",
    "\n",
    "![](../assets/t002_validation/error.png)\n",
    "\n",
    "A more rigorous way of quantifying the error is to measure it with a norm. Here, we use the $L^2$ and $H^1$ norms, which are defined as\n",
    "\n",
    "$$\n",
    "\\| w \\|_{L^2}^2 \\doteq \\int_{\\Omega} w^2 \\ \\text{d}\\Omega, \\quad\n",
    "\\| w \\|_{H^1}^2 \\doteq \\int_{\\Omega} w^2 + \\nabla w \\cdot \\nabla w \\ \\text{d}\\Omega.\n",
    "\n",
    "$$\n",
    "\n",
    "In order to compute these norms, we are going to use the `integrate` function. To this end, we need to define the integrands that we want to integrate, namely"
   ],
   "metadata": {}
  },
  {
   "outputs": [],
   "cell_type": "code",
   "source": [
    "l2(w) = inner(w,w)\n",
    "h1(w) = a(w,w) + l2(w)"
   ],
   "metadata": {},
   "execution_count": null
  },
  {
   "outputs": [],
   "cell_type": "markdown",
   "source": [
    "Note that in order to define the integrand of the $H^1$ norm, we have reused function `a`, previously used to define the bilinear form of the problem.  Once we have defined the integrands, we are ready to compute the integrals. For the $L^2$ norm"
   ],
   "metadata": {}
  },
  {
   "outputs": [],
   "cell_type": "code",
   "source": [
    "el2 = sqrt(sum( integrate(l2(e),trian,quad) ))"
   ],
   "metadata": {},
   "execution_count": null
  },
  {
   "outputs": [],
   "cell_type": "markdown",
   "source": [
    "and for the $H^1$ norm"
   ],
   "metadata": {}
  },
  {
   "outputs": [],
   "cell_type": "code",
   "source": [
    "eh1 = sqrt(sum( integrate(h1(e),trian,quad) ))"
   ],
   "metadata": {},
   "execution_count": null
  },
  {
   "outputs": [],
   "cell_type": "markdown",
   "source": [
    "The `integrate` function works as follows. In the first argument, we pass the integrand. In the second and third arguments, we pass a `Triangulation` object and a`CellQuadrature` that represent the data needed in order to perform the integrals numerically. The `integrate` function returns an object containing the contribution to the integrated value of each cell in the given `Triangulation`. To end up with the desired error norms, one has to sum these contributions and take the square root. You can check that the computed error norms are close to machine precision (as one would expect)."
   ],
   "metadata": {}
  },
  {
   "outputs": [],
   "cell_type": "code",
   "source": [
    "tol = 1.e-10\n",
    "@assert el2 < tol\n",
    "@assert eh1 < tol"
   ],
   "metadata": {},
   "execution_count": null
  },
  {
   "outputs": [],
   "cell_type": "markdown",
   "source": [
    "## Convergence test\n",
    "\n",
    "We end up this tutorial by performing a convergence test, where we are going to use all the new concepts we have learned.  We will consider a manufactured solution that does not belong to the FE interpolation space. In this test, we expect to see the optimal convergence order of the FE discretization."
   ],
   "metadata": {}
  },
  {
   "outputs": [],
   "cell_type": "markdown",
   "source": [
    "Here, we define the manufactured functions"
   ],
   "metadata": {}
  },
  {
   "outputs": [],
   "cell_type": "code",
   "source": [
    "const k = 2*pi\n",
    "u(x) = sin(k*x[1]) * x[2]\n",
    "∇u(x) = VectorValue(k*cos(k*x[1])*x[2], sin(k*x[1]))\n",
    "f(x) = (k^2)*sin(k*x[1])*x[2]"
   ],
   "metadata": {},
   "execution_count": null
  },
  {
   "outputs": [],
   "cell_type": "markdown",
   "source": [
    "Since we have redefined the valiables `u`, `∇u`, and `f`, we need to execute these lines again"
   ],
   "metadata": {}
  },
  {
   "outputs": [],
   "cell_type": "code",
   "source": [
    "∇(::typeof(u)) = ∇u\n",
    "b(v) = inner(v,f)"
   ],
   "metadata": {},
   "execution_count": null
  },
  {
   "outputs": [],
   "cell_type": "markdown",
   "source": [
    "In order to perform the convergence test, we write in a function all the code needed to perform a single computation and measure its error. The input of this function is the number of cells in each direction and the interpolation order. The output is the computed $L^2$ and $H^1$ error norms."
   ],
   "metadata": {}
  },
  {
   "outputs": [],
   "cell_type": "code",
   "source": [
    "function run(n,order)\n",
    "\n",
    "  limits = (0.0, 1.0, 0.0, 1.0)\n",
    "  model = CartesianDiscreteModel(domain=limits, partition=(n,n))\n",
    "\n",
    "  diritag = \"boundary\"\n",
    "  V = CLagrangianFESpace(Float64,model,order,diritag)\n",
    "\n",
    "  V0 = TestFESpace(V)\n",
    "  U = TrialFESpace(V,u)\n",
    "\n",
    "  trian = Triangulation(model)\n",
    "  quad = CellQuadrature(trian,order=order+2)\n",
    "\n",
    "  t_Ω = AffineFETerm(a,b,trian,quad)\n",
    "  op = LinearFEOperator(V0,U,t_Ω)\n",
    "\n",
    "  uh = solve(op)\n",
    "\n",
    "  e = u - uh\n",
    "\n",
    "  el2 = sqrt(sum( integrate(l2(e),trian,quad) ))\n",
    "  eh1 = sqrt(sum( integrate(h1(e),trian,quad) ))\n",
    "\n",
    "  (el2, eh1)\n",
    "\n",
    "end"
   ],
   "metadata": {},
   "execution_count": null
  },
  {
   "outputs": [],
   "cell_type": "markdown",
   "source": [
    "The following function does the convergence test. It takes a vector of integers (representing the number of cells per direction in each computation) plus the interpolation order. It returns the $L^2$ and $H^1$ error norms for each computation as well as the corresponding cell size."
   ],
   "metadata": {}
  },
  {
   "outputs": [],
   "cell_type": "code",
   "source": [
    "function conv_test(ns,order)\n",
    "\n",
    "  el2s = Float64[]\n",
    "  eh1s = Float64[]\n",
    "  hs = Float64[]\n",
    "\n",
    "  for n in ns\n",
    "\n",
    "    el2, eh1 = run(n,order)\n",
    "    h = 1.0/n\n",
    "\n",
    "    push!(el2s,el2)\n",
    "    push!(eh1s,eh1)\n",
    "    push!(hs,h)\n",
    "\n",
    "  end\n",
    "\n",
    "  (el2s, eh1s, hs)\n",
    "\n",
    "end"
   ],
   "metadata": {},
   "execution_count": null
  },
  {
   "outputs": [],
   "cell_type": "markdown",
   "source": [
    "We are ready to perform the test! We consider several mesh sizes and interpolation order equal to 2."
   ],
   "metadata": {}
  },
  {
   "outputs": [],
   "cell_type": "code",
   "source": [
    "el2s, eh1s, hs = conv_test([8,16,32,64,128],2);"
   ],
   "metadata": {},
   "execution_count": null
  },
  {
   "outputs": [],
   "cell_type": "markdown",
   "source": [
    "With the generated data, we do the classical convergence plot."
   ],
   "metadata": {}
  },
  {
   "outputs": [],
   "cell_type": "code",
   "source": [
    "using Plots\n",
    "\n",
    "plot(hs,[el2s eh1s],\n",
    "    xaxis=:log, yaxis=:log,\n",
    "    label=[\"L2\" \"H1\"],\n",
    "    shape=:auto,\n",
    "    xlabel=\"h\",ylabel=\"error norm\")"
   ],
   "metadata": {},
   "execution_count": null
  },
  {
   "outputs": [],
   "cell_type": "markdown",
   "source": [
    "The generated curves make sense. It is observed that the convergence of the $H^1$ error is slower that $L^2$ one. However, in order to be more conclusive, we need to compute the slope of these lines. It can be done with this little function that internally uses a linear regression."
   ],
   "metadata": {}
  },
  {
   "outputs": [],
   "cell_type": "code",
   "source": [
    "function slope(hs,errors)\n",
    "  x = log10.(hs)\n",
    "  y = log10.(errors)\n",
    "  linreg = hcat(fill!(similar(x), 1), x) \\ y\n",
    "  linreg[2]\n",
    "end"
   ],
   "metadata": {},
   "execution_count": null
  },
  {
   "outputs": [],
   "cell_type": "markdown",
   "source": [
    "The slope for the $L^2$ error norm is computed as"
   ],
   "metadata": {}
  },
  {
   "outputs": [],
   "cell_type": "code",
   "source": [
    "slope(hs,el2s)"
   ],
   "metadata": {},
   "execution_count": null
  },
  {
   "outputs": [],
   "cell_type": "markdown",
   "source": [
    "and for the $H^1$ error norm"
   ],
   "metadata": {}
  },
  {
   "outputs": [],
   "cell_type": "code",
   "source": [
    "slope(hs,eh1s)"
   ],
   "metadata": {},
   "execution_count": null
  },
  {
   "outputs": [],
   "cell_type": "markdown",
   "source": [
    "As you can see,\n",
    "the slopes for the $L^2$ and $H^1$ error norms are circa 3 and 2 respectively (as one expects for interpolation order 2)\n",
    "\n",
    "Congrats, another tutorial done!"
   ],
   "metadata": {}
  },
  {
   "outputs": [],
   "cell_type": "markdown",
   "source": [
    "*This notebook was generated using [Literate.jl](https://github.com/fredrikekre/Literate.jl).*"
   ],
   "metadata": {}
  }
 ],
 "nbformat_minor": 3,
 "metadata": {
  "language_info": {
   "file_extension": ".jl",
   "mimetype": "application/julia",
   "name": "julia",
   "version": "1.2.0"
  },
  "kernelspec": {
   "name": "julia-1.2",
   "display_name": "Julia 1.2.0",
   "language": "julia"
  }
 },
 "nbformat": 4
}
